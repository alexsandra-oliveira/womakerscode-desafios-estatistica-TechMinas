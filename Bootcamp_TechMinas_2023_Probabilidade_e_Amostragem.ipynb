{
  "nbformat": 4,
  "nbformat_minor": 0,
  "metadata": {
    "colab": {
      "provenance": []
    },
    "kernelspec": {
      "name": "python3",
      "display_name": "Python 3"
    },
    "language_info": {
      "name": "python"
    }
  },
  "cells": [
    {
      "cell_type": "markdown",
      "source": [
        "#**Desafio Challenge Probabilidade e Amostragem.**"
      ],
      "metadata": {
        "id": "N7LyyqqLy4yv"
      }
    },
    {
      "cell_type": "markdown",
      "source": [
        "##**Desafio 1: Entendendo o consumidor.**\n",
        "\n"
      ],
      "metadata": {
        "id": "DO--P1oGy5BS"
      }
    },
    {
      "cell_type": "markdown",
      "source": [
        "Suponha que você trabalha em uma empresa de produtos de beleza populares e, com\n",
        "a pandemia, você suspeita que o perfil de seus clientes mudou. \n",
        "O time de marketing, pediu a sua ajuda e gostaria de entender se:\n",
        "1. isso de fato aconteceu e \n",
        "2. quais as diferenças do novo perfil de clientes para o antigo, pois assim poderiam personalizar melhor os seus anúncios. \n",
        "Para isso, eles te enviaram a base de dados(desafio_01_consumidor.csv). \n",
        "Como você poderia ajudá-los?\n",
        "\n",
        "Para responder esse desafio:\n",
        "\n",
        "A base de dados: desafio_01_consumidor.csv contém informações de seus clientes\n",
        "(anonimizados) no período pré e pós pandemia. A coluna \"pré-pandemia\" indica se o dado é pré-pandemia ou não, sendo 1, caso positivo ou 0 caso negativo.\n",
        "Dica / Passo a Passo:\n",
        "1. Entenda a distribuição de variáveis como de idade / renda / regiao /\n",
        "produtos mais comprados antes e depois da pandemia\n",
        "\n",
        "  a. Identifique as distribuições\n",
        "\n",
        "  b. Plote histogramas / boxplots\n",
        "\n",
        "2. Você notou diferenças nítidas pré e pós pandemia? Como você poderia\n",
        "provar estatisticamente que essas diferenças são significativas ? (pergunta\n",
        "extra)\n",
        "3. Suponha agora que os dados recebidos são somente uma amostra da sua\n",
        "população total de clientes. Suponha que a sua \"população\" de clientes\n",
        "verdadeira é de 100000. Qual o tamanho da amostra necessária para\n",
        "chegarmos a conclusões com 95% de confiança e 2% de margem de erro? A\n",
        "base informada é suficiente? E com uma margem de erro de 10%?"
      ],
      "metadata": {
        "id": "dhz5XdljzzXn"
      }
    },
    {
      "cell_type": "markdown",
      "source": [
        "**Importando Bibliotecas**\n",
        "\n"
      ],
      "metadata": {
        "id": "fLZx7MwUwuF8"
      }
    },
    {
      "cell_type": "code",
      "source": [
        "import pandas as pd\n",
        "import numpy as np\n",
        "import seaborn as sns\n",
        "import matplotlib.pyplot as plt\n",
        "%matplotlib inline"
      ],
      "metadata": {
        "id": "qmn-OFtM0aG3"
      },
      "execution_count": 1,
      "outputs": []
    },
    {
      "cell_type": "markdown",
      "source": [
        "**Leitura dos dados**"
      ],
      "metadata": {
        "id": "lgm-bCnwxFPx"
      }
    },
    {
      "cell_type": "code",
      "source": [
        "df = pd.read_csv('desafio01consumidor-230209-165113.csv')"
      ],
      "metadata": {
        "id": "Rqu_ABjifqeL"
      },
      "execution_count": 2,
      "outputs": []
    },
    {
      "cell_type": "markdown",
      "source": [
        "**Visualizando os Dados**"
      ],
      "metadata": {
        "id": "ySy9mHwkxInO"
      }
    },
    {
      "cell_type": "code",
      "source": [
        "df.head()"
      ],
      "metadata": {
        "colab": {
          "base_uri": "https://localhost:8080/",
          "height": 206
        },
        "id": "K_rHibU8fqgq",
        "outputId": "e7f4f6c1-b6c2-4949-8871-cc7e6f741d63"
      },
      "execution_count": 3,
      "outputs": [
        {
          "output_type": "execute_result",
          "data": {
            "text/plain": [
              "  id_cliente  idade  renda      produto     regiao-BR  pre-pandemia\n",
              "0  XXXXXXX72     30   7452        batom       Sudeste             1\n",
              "1  XXXXXXX15     59    837  desodorante      Nordeste             1\n",
              "2  XXXXXXX70     28   3231       sombra  Centro-Oeste             1\n",
              "3  XXXXXXX99     27   5409        batom           Sul             1\n",
              "4  XXXXXXX98     24   1142        batom       Sudeste             1"
            ],
            "text/html": [
              "\n",
              "  <div id=\"df-daaf026a-6433-4e5a-be20-c91b6cabce1d\">\n",
              "    <div class=\"colab-df-container\">\n",
              "      <div>\n",
              "<style scoped>\n",
              "    .dataframe tbody tr th:only-of-type {\n",
              "        vertical-align: middle;\n",
              "    }\n",
              "\n",
              "    .dataframe tbody tr th {\n",
              "        vertical-align: top;\n",
              "    }\n",
              "\n",
              "    .dataframe thead th {\n",
              "        text-align: right;\n",
              "    }\n",
              "</style>\n",
              "<table border=\"1\" class=\"dataframe\">\n",
              "  <thead>\n",
              "    <tr style=\"text-align: right;\">\n",
              "      <th></th>\n",
              "      <th>id_cliente</th>\n",
              "      <th>idade</th>\n",
              "      <th>renda</th>\n",
              "      <th>produto</th>\n",
              "      <th>regiao-BR</th>\n",
              "      <th>pre-pandemia</th>\n",
              "    </tr>\n",
              "  </thead>\n",
              "  <tbody>\n",
              "    <tr>\n",
              "      <th>0</th>\n",
              "      <td>XXXXXXX72</td>\n",
              "      <td>30</td>\n",
              "      <td>7452</td>\n",
              "      <td>batom</td>\n",
              "      <td>Sudeste</td>\n",
              "      <td>1</td>\n",
              "    </tr>\n",
              "    <tr>\n",
              "      <th>1</th>\n",
              "      <td>XXXXXXX15</td>\n",
              "      <td>59</td>\n",
              "      <td>837</td>\n",
              "      <td>desodorante</td>\n",
              "      <td>Nordeste</td>\n",
              "      <td>1</td>\n",
              "    </tr>\n",
              "    <tr>\n",
              "      <th>2</th>\n",
              "      <td>XXXXXXX70</td>\n",
              "      <td>28</td>\n",
              "      <td>3231</td>\n",
              "      <td>sombra</td>\n",
              "      <td>Centro-Oeste</td>\n",
              "      <td>1</td>\n",
              "    </tr>\n",
              "    <tr>\n",
              "      <th>3</th>\n",
              "      <td>XXXXXXX99</td>\n",
              "      <td>27</td>\n",
              "      <td>5409</td>\n",
              "      <td>batom</td>\n",
              "      <td>Sul</td>\n",
              "      <td>1</td>\n",
              "    </tr>\n",
              "    <tr>\n",
              "      <th>4</th>\n",
              "      <td>XXXXXXX98</td>\n",
              "      <td>24</td>\n",
              "      <td>1142</td>\n",
              "      <td>batom</td>\n",
              "      <td>Sudeste</td>\n",
              "      <td>1</td>\n",
              "    </tr>\n",
              "  </tbody>\n",
              "</table>\n",
              "</div>\n",
              "      <button class=\"colab-df-convert\" onclick=\"convertToInteractive('df-daaf026a-6433-4e5a-be20-c91b6cabce1d')\"\n",
              "              title=\"Convert this dataframe to an interactive table.\"\n",
              "              style=\"display:none;\">\n",
              "        \n",
              "  <svg xmlns=\"http://www.w3.org/2000/svg\" height=\"24px\"viewBox=\"0 0 24 24\"\n",
              "       width=\"24px\">\n",
              "    <path d=\"M0 0h24v24H0V0z\" fill=\"none\"/>\n",
              "    <path d=\"M18.56 5.44l.94 2.06.94-2.06 2.06-.94-2.06-.94-.94-2.06-.94 2.06-2.06.94zm-11 1L8.5 8.5l.94-2.06 2.06-.94-2.06-.94L8.5 2.5l-.94 2.06-2.06.94zm10 10l.94 2.06.94-2.06 2.06-.94-2.06-.94-.94-2.06-.94 2.06-2.06.94z\"/><path d=\"M17.41 7.96l-1.37-1.37c-.4-.4-.92-.59-1.43-.59-.52 0-1.04.2-1.43.59L10.3 9.45l-7.72 7.72c-.78.78-.78 2.05 0 2.83L4 21.41c.39.39.9.59 1.41.59.51 0 1.02-.2 1.41-.59l7.78-7.78 2.81-2.81c.8-.78.8-2.07 0-2.86zM5.41 20L4 18.59l7.72-7.72 1.47 1.35L5.41 20z\"/>\n",
              "  </svg>\n",
              "      </button>\n",
              "      \n",
              "  <style>\n",
              "    .colab-df-container {\n",
              "      display:flex;\n",
              "      flex-wrap:wrap;\n",
              "      gap: 12px;\n",
              "    }\n",
              "\n",
              "    .colab-df-convert {\n",
              "      background-color: #E8F0FE;\n",
              "      border: none;\n",
              "      border-radius: 50%;\n",
              "      cursor: pointer;\n",
              "      display: none;\n",
              "      fill: #1967D2;\n",
              "      height: 32px;\n",
              "      padding: 0 0 0 0;\n",
              "      width: 32px;\n",
              "    }\n",
              "\n",
              "    .colab-df-convert:hover {\n",
              "      background-color: #E2EBFA;\n",
              "      box-shadow: 0px 1px 2px rgba(60, 64, 67, 0.3), 0px 1px 3px 1px rgba(60, 64, 67, 0.15);\n",
              "      fill: #174EA6;\n",
              "    }\n",
              "\n",
              "    [theme=dark] .colab-df-convert {\n",
              "      background-color: #3B4455;\n",
              "      fill: #D2E3FC;\n",
              "    }\n",
              "\n",
              "    [theme=dark] .colab-df-convert:hover {\n",
              "      background-color: #434B5C;\n",
              "      box-shadow: 0px 1px 3px 1px rgba(0, 0, 0, 0.15);\n",
              "      filter: drop-shadow(0px 1px 2px rgba(0, 0, 0, 0.3));\n",
              "      fill: #FFFFFF;\n",
              "    }\n",
              "  </style>\n",
              "\n",
              "      <script>\n",
              "        const buttonEl =\n",
              "          document.querySelector('#df-daaf026a-6433-4e5a-be20-c91b6cabce1d button.colab-df-convert');\n",
              "        buttonEl.style.display =\n",
              "          google.colab.kernel.accessAllowed ? 'block' : 'none';\n",
              "\n",
              "        async function convertToInteractive(key) {\n",
              "          const element = document.querySelector('#df-daaf026a-6433-4e5a-be20-c91b6cabce1d');\n",
              "          const dataTable =\n",
              "            await google.colab.kernel.invokeFunction('convertToInteractive',\n",
              "                                                     [key], {});\n",
              "          if (!dataTable) return;\n",
              "\n",
              "          const docLinkHtml = 'Like what you see? Visit the ' +\n",
              "            '<a target=\"_blank\" href=https://colab.research.google.com/notebooks/data_table.ipynb>data table notebook</a>'\n",
              "            + ' to learn more about interactive tables.';\n",
              "          element.innerHTML = '';\n",
              "          dataTable['output_type'] = 'display_data';\n",
              "          await google.colab.output.renderOutput(dataTable, element);\n",
              "          const docLink = document.createElement('div');\n",
              "          docLink.innerHTML = docLinkHtml;\n",
              "          element.appendChild(docLink);\n",
              "        }\n",
              "      </script>\n",
              "    </div>\n",
              "  </div>\n",
              "  "
            ]
          },
          "metadata": {},
          "execution_count": 3
        }
      ]
    },
    {
      "cell_type": "markdown",
      "source": [
        "**Verificando o tamanho do Dataset**"
      ],
      "metadata": {
        "id": "XQacgmBDxToc"
      }
    },
    {
      "cell_type": "code",
      "source": [
        "df.shape"
      ],
      "metadata": {
        "colab": {
          "base_uri": "https://localhost:8080/"
        },
        "id": "l9ZcQ5odfqkq",
        "outputId": "72d0c3fb-36bf-4a66-9187-aab97675fe92"
      },
      "execution_count": 4,
      "outputs": [
        {
          "output_type": "execute_result",
          "data": {
            "text/plain": [
              "(203, 6)"
            ]
          },
          "metadata": {},
          "execution_count": 4
        }
      ]
    },
    {
      "cell_type": "markdown",
      "source": [
        "**Verificando as informações dos tipos de Dados**"
      ],
      "metadata": {
        "id": "LDAjcY2Lxf8z"
      }
    },
    {
      "cell_type": "code",
      "source": [
        "type(df)"
      ],
      "metadata": {
        "colab": {
          "base_uri": "https://localhost:8080/"
        },
        "id": "fkGJ0ZSWx2QY",
        "outputId": "7fa66f46-1c03-44c1-8c45-8381bcb12657"
      },
      "execution_count": 5,
      "outputs": [
        {
          "output_type": "execute_result",
          "data": {
            "text/plain": [
              "pandas.core.frame.DataFrame"
            ]
          },
          "metadata": {},
          "execution_count": 5
        }
      ]
    },
    {
      "cell_type": "code",
      "source": [
        "df.info()"
      ],
      "metadata": {
        "colab": {
          "base_uri": "https://localhost:8080/"
        },
        "id": "2qZLAUPnRxL3",
        "outputId": "43558067-0a3b-4c61-afc6-59a8632c699f"
      },
      "execution_count": 6,
      "outputs": [
        {
          "output_type": "stream",
          "name": "stdout",
          "text": [
            "<class 'pandas.core.frame.DataFrame'>\n",
            "RangeIndex: 203 entries, 0 to 202\n",
            "Data columns (total 6 columns):\n",
            " #   Column        Non-Null Count  Dtype \n",
            "---  ------        --------------  ----- \n",
            " 0   id_cliente    203 non-null    object\n",
            " 1   idade         203 non-null    int64 \n",
            " 2   renda         203 non-null    int64 \n",
            " 3   produto       203 non-null    object\n",
            " 4   regiao-BR     203 non-null    object\n",
            " 5   pre-pandemia  203 non-null    int64 \n",
            "dtypes: int64(3), object(3)\n",
            "memory usage: 9.6+ KB\n"
          ]
        }
      ]
    },
    {
      "cell_type": "markdown",
      "source": [
        "**Estatisticas Descritivas**"
      ],
      "metadata": {
        "id": "bv3unZnVyTJK"
      }
    },
    {
      "cell_type": "code",
      "source": [
        "df.describe().round(2)"
      ],
      "metadata": {
        "colab": {
          "base_uri": "https://localhost:8080/",
          "height": 300
        },
        "id": "u5bvAOa7CNhs",
        "outputId": "ae65eb9d-f9d9-48ce-c13b-542888a4bbc4"
      },
      "execution_count": 7,
      "outputs": [
        {
          "output_type": "execute_result",
          "data": {
            "text/plain": [
              "       idade     renda  pre-pandemia\n",
              "count  203.0    203.00         203.0\n",
              "mean    42.4  11586.36           0.5\n",
              "std     14.4   6288.02           0.5\n",
              "min     15.0    110.00           0.0\n",
              "25%     31.0   6705.00           0.0\n",
              "50%     41.0  11145.00           0.0\n",
              "75%     53.0  15590.50           1.0\n",
              "max     80.0  30000.00           1.0"
            ],
            "text/html": [
              "\n",
              "  <div id=\"df-2a86bb01-978d-4af9-8dcf-420cec240d97\">\n",
              "    <div class=\"colab-df-container\">\n",
              "      <div>\n",
              "<style scoped>\n",
              "    .dataframe tbody tr th:only-of-type {\n",
              "        vertical-align: middle;\n",
              "    }\n",
              "\n",
              "    .dataframe tbody tr th {\n",
              "        vertical-align: top;\n",
              "    }\n",
              "\n",
              "    .dataframe thead th {\n",
              "        text-align: right;\n",
              "    }\n",
              "</style>\n",
              "<table border=\"1\" class=\"dataframe\">\n",
              "  <thead>\n",
              "    <tr style=\"text-align: right;\">\n",
              "      <th></th>\n",
              "      <th>idade</th>\n",
              "      <th>renda</th>\n",
              "      <th>pre-pandemia</th>\n",
              "    </tr>\n",
              "  </thead>\n",
              "  <tbody>\n",
              "    <tr>\n",
              "      <th>count</th>\n",
              "      <td>203.0</td>\n",
              "      <td>203.00</td>\n",
              "      <td>203.0</td>\n",
              "    </tr>\n",
              "    <tr>\n",
              "      <th>mean</th>\n",
              "      <td>42.4</td>\n",
              "      <td>11586.36</td>\n",
              "      <td>0.5</td>\n",
              "    </tr>\n",
              "    <tr>\n",
              "      <th>std</th>\n",
              "      <td>14.4</td>\n",
              "      <td>6288.02</td>\n",
              "      <td>0.5</td>\n",
              "    </tr>\n",
              "    <tr>\n",
              "      <th>min</th>\n",
              "      <td>15.0</td>\n",
              "      <td>110.00</td>\n",
              "      <td>0.0</td>\n",
              "    </tr>\n",
              "    <tr>\n",
              "      <th>25%</th>\n",
              "      <td>31.0</td>\n",
              "      <td>6705.00</td>\n",
              "      <td>0.0</td>\n",
              "    </tr>\n",
              "    <tr>\n",
              "      <th>50%</th>\n",
              "      <td>41.0</td>\n",
              "      <td>11145.00</td>\n",
              "      <td>0.0</td>\n",
              "    </tr>\n",
              "    <tr>\n",
              "      <th>75%</th>\n",
              "      <td>53.0</td>\n",
              "      <td>15590.50</td>\n",
              "      <td>1.0</td>\n",
              "    </tr>\n",
              "    <tr>\n",
              "      <th>max</th>\n",
              "      <td>80.0</td>\n",
              "      <td>30000.00</td>\n",
              "      <td>1.0</td>\n",
              "    </tr>\n",
              "  </tbody>\n",
              "</table>\n",
              "</div>\n",
              "      <button class=\"colab-df-convert\" onclick=\"convertToInteractive('df-2a86bb01-978d-4af9-8dcf-420cec240d97')\"\n",
              "              title=\"Convert this dataframe to an interactive table.\"\n",
              "              style=\"display:none;\">\n",
              "        \n",
              "  <svg xmlns=\"http://www.w3.org/2000/svg\" height=\"24px\"viewBox=\"0 0 24 24\"\n",
              "       width=\"24px\">\n",
              "    <path d=\"M0 0h24v24H0V0z\" fill=\"none\"/>\n",
              "    <path d=\"M18.56 5.44l.94 2.06.94-2.06 2.06-.94-2.06-.94-.94-2.06-.94 2.06-2.06.94zm-11 1L8.5 8.5l.94-2.06 2.06-.94-2.06-.94L8.5 2.5l-.94 2.06-2.06.94zm10 10l.94 2.06.94-2.06 2.06-.94-2.06-.94-.94-2.06-.94 2.06-2.06.94z\"/><path d=\"M17.41 7.96l-1.37-1.37c-.4-.4-.92-.59-1.43-.59-.52 0-1.04.2-1.43.59L10.3 9.45l-7.72 7.72c-.78.78-.78 2.05 0 2.83L4 21.41c.39.39.9.59 1.41.59.51 0 1.02-.2 1.41-.59l7.78-7.78 2.81-2.81c.8-.78.8-2.07 0-2.86zM5.41 20L4 18.59l7.72-7.72 1.47 1.35L5.41 20z\"/>\n",
              "  </svg>\n",
              "      </button>\n",
              "      \n",
              "  <style>\n",
              "    .colab-df-container {\n",
              "      display:flex;\n",
              "      flex-wrap:wrap;\n",
              "      gap: 12px;\n",
              "    }\n",
              "\n",
              "    .colab-df-convert {\n",
              "      background-color: #E8F0FE;\n",
              "      border: none;\n",
              "      border-radius: 50%;\n",
              "      cursor: pointer;\n",
              "      display: none;\n",
              "      fill: #1967D2;\n",
              "      height: 32px;\n",
              "      padding: 0 0 0 0;\n",
              "      width: 32px;\n",
              "    }\n",
              "\n",
              "    .colab-df-convert:hover {\n",
              "      background-color: #E2EBFA;\n",
              "      box-shadow: 0px 1px 2px rgba(60, 64, 67, 0.3), 0px 1px 3px 1px rgba(60, 64, 67, 0.15);\n",
              "      fill: #174EA6;\n",
              "    }\n",
              "\n",
              "    [theme=dark] .colab-df-convert {\n",
              "      background-color: #3B4455;\n",
              "      fill: #D2E3FC;\n",
              "    }\n",
              "\n",
              "    [theme=dark] .colab-df-convert:hover {\n",
              "      background-color: #434B5C;\n",
              "      box-shadow: 0px 1px 3px 1px rgba(0, 0, 0, 0.15);\n",
              "      filter: drop-shadow(0px 1px 2px rgba(0, 0, 0, 0.3));\n",
              "      fill: #FFFFFF;\n",
              "    }\n",
              "  </style>\n",
              "\n",
              "      <script>\n",
              "        const buttonEl =\n",
              "          document.querySelector('#df-2a86bb01-978d-4af9-8dcf-420cec240d97 button.colab-df-convert');\n",
              "        buttonEl.style.display =\n",
              "          google.colab.kernel.accessAllowed ? 'block' : 'none';\n",
              "\n",
              "        async function convertToInteractive(key) {\n",
              "          const element = document.querySelector('#df-2a86bb01-978d-4af9-8dcf-420cec240d97');\n",
              "          const dataTable =\n",
              "            await google.colab.kernel.invokeFunction('convertToInteractive',\n",
              "                                                     [key], {});\n",
              "          if (!dataTable) return;\n",
              "\n",
              "          const docLinkHtml = 'Like what you see? Visit the ' +\n",
              "            '<a target=\"_blank\" href=https://colab.research.google.com/notebooks/data_table.ipynb>data table notebook</a>'\n",
              "            + ' to learn more about interactive tables.';\n",
              "          element.innerHTML = '';\n",
              "          dataTable['output_type'] = 'display_data';\n",
              "          await google.colab.output.renderOutput(dataTable, element);\n",
              "          const docLink = document.createElement('div');\n",
              "          docLink.innerHTML = docLinkHtml;\n",
              "          element.appendChild(docLink);\n",
              "        }\n",
              "      </script>\n",
              "    </div>\n",
              "  </div>\n",
              "  "
            ]
          },
          "metadata": {},
          "execution_count": 7
        }
      ]
    },
    {
      "cell_type": "markdown",
      "source": [
        "1. Entenda a distribuição de variáveis como de idade / renda / regiao /produtos mais comprados antes e depois da pandemia\n",
        "\n",
        "  a. Identifique as distribuições\n",
        "  \n",
        "  b. Plote histogramas / boxplots"
      ],
      "metadata": {
        "id": "kF9A9RSwkXms"
      }
    },
    {
      "cell_type": "code",
      "source": [
        "dist = df[['idade', 'renda', 'regiao-BR', 'produto']].value_counts()\n",
        "dist"
      ],
      "metadata": {
        "colab": {
          "base_uri": "https://localhost:8080/"
        },
        "id": "lzDJFJTYfqoB",
        "outputId": "beffc647-46c9-4622-e06d-08dd1fcb4bac"
      },
      "execution_count": 8,
      "outputs": [
        {
          "output_type": "execute_result",
          "data": {
            "text/plain": [
              "idade  renda  regiao-BR     produto    \n",
              "15     9910   Sudeste       batom          1\n",
              "49     8201   Nordeste      sombra         1\n",
              "47     13743  Norte         antissinais    1\n",
              "       15827  Centro-Oeste  antissinais    1\n",
              "       22927  Norte         antissinais    1\n",
              "                                          ..\n",
              "36     11100  Nordeste      desodorante    1\n",
              "       11713  Nordeste      sombra         1\n",
              "       12755  Sul           desodorante    1\n",
              "       14108  Nordeste      desodorante    1\n",
              "80     15969  Centro-Oeste  sombra         1\n",
              "Length: 203, dtype: int64"
            ]
          },
          "metadata": {},
          "execution_count": 8
        }
      ]
    },
    {
      "cell_type": "code",
      "source": [
        "df[df['pre-pandemia'] == 1].value_counts().sort_values(ascending=False).round(4)"
      ],
      "metadata": {
        "colab": {
          "base_uri": "https://localhost:8080/"
        },
        "id": "AruBvHclT4JQ",
        "outputId": "62c96acc-37fc-4bb7-ef64-841d9f24554a"
      },
      "execution_count": 9,
      "outputs": [
        {
          "output_type": "execute_result",
          "data": {
            "text/plain": [
              "id_cliente  idade  renda  produto      regiao-BR  pre-pandemia\n",
              "XXXXXXX10   42     6891   batom        Sul        1               1\n",
              "XXXXXXX47   36     19226  batom        Nordeste   1               1\n",
              "XXXXXXX13   34     3118   desodorante  Nordeste   1               1\n",
              "XXXXXXX14   24     7996   batom        Sudeste    1               1\n",
              "            26     13770  batom        Sudeste    1               1\n",
              "                                                                 ..\n",
              "XXXXXXX98   24     1142   batom        Sudeste    1               1\n",
              "            47     22927  antissinais  Norte      1               1\n",
              "XXXXXXX99   27     5409   batom        Sul        1               1\n",
              "            53     18104  batom        Sul        1               1\n",
              "            55     18864  batom        Sul        1               1\n",
              "Length: 101, dtype: int64"
            ]
          },
          "metadata": {},
          "execution_count": 9
        }
      ]
    },
    {
      "cell_type": "code",
      "source": [
        "df[df['pre-pandemia'] == 1].min()"
      ],
      "metadata": {
        "colab": {
          "base_uri": "https://localhost:8080/"
        },
        "id": "xglWqVQJA67M",
        "outputId": "346ec286-bfa3-44dd-8e0a-721012418103"
      },
      "execution_count": 10,
      "outputs": [
        {
          "output_type": "execute_result",
          "data": {
            "text/plain": [
              "id_cliente         XXXXXXX10\n",
              "idade                     16\n",
              "renda                    110\n",
              "produto          antissinais\n",
              "regiao-BR       Centro-Oeste\n",
              "pre-pandemia               1\n",
              "dtype: object"
            ]
          },
          "metadata": {},
          "execution_count": 10
        }
      ]
    },
    {
      "cell_type": "code",
      "source": [
        "df[df['pre-pandemia'] == 1].max()"
      ],
      "metadata": {
        "colab": {
          "base_uri": "https://localhost:8080/"
        },
        "id": "YdAw8sAQBD-3",
        "outputId": "7d667395-b88a-474e-c15e-152d7b56c6be"
      },
      "execution_count": 11,
      "outputs": [
        {
          "output_type": "execute_result",
          "data": {
            "text/plain": [
              "id_cliente      XXXXXXX99\n",
              "idade                  80\n",
              "renda               24090\n",
              "produto            sombra\n",
              "regiao-BR             Sul\n",
              "pre-pandemia            1\n",
              "dtype: object"
            ]
          },
          "metadata": {},
          "execution_count": 11
        }
      ]
    },
    {
      "cell_type": "code",
      "source": [
        "df[df['pre-pandemia'] == 0].value_counts().sort_values(ascending=False).round(4)"
      ],
      "metadata": {
        "colab": {
          "base_uri": "https://localhost:8080/"
        },
        "id": "BLGFA2VGQYpo",
        "outputId": "8e339a03-dfa1-4876-fe08-bf1638186fda"
      },
      "execution_count": 12,
      "outputs": [
        {
          "output_type": "execute_result",
          "data": {
            "text/plain": [
              "id_cliente  idade  renda  produto      regiao-BR  pre-pandemia\n",
              "XXXXXXX10   46     7521   antissinais  Norte      0               1\n",
              "XXXXXXX21   36     17837  desodorante  Sul        0               1\n",
              "XXXXXXX14   62     10964  desodorante  Sul        0               1\n",
              "XXXXXXX17   31     11180  desodorante  Sul        0               1\n",
              "            36     12755  desodorante  Sul        0               1\n",
              "                                                                 ..\n",
              "XXXXXXX92   58     15278  desodorante  Sul        0               1\n",
              "XXXXXXX93   43     11007  desodorante  Sudeste    0               1\n",
              "XXXXXXX94   54     12025  desodorante  Sul        0               1\n",
              "XXXXXXX99   33     17969  sombra       Nordeste   0               1\n",
              "            37     12617  desodorante  Sul        0               1\n",
              "Length: 102, dtype: int64"
            ]
          },
          "metadata": {},
          "execution_count": 12
        }
      ]
    },
    {
      "cell_type": "code",
      "source": [
        "df[df['pre-pandemia'] == 0].min()"
      ],
      "metadata": {
        "colab": {
          "base_uri": "https://localhost:8080/"
        },
        "id": "lBML3odSafY4",
        "outputId": "03e1924d-9992-4c60-b9b0-e1cf4a8eb099"
      },
      "execution_count": 13,
      "outputs": [
        {
          "output_type": "execute_result",
          "data": {
            "text/plain": [
              "id_cliente         XXXXXXX10\n",
              "idade                     15\n",
              "renda                   1995\n",
              "produto          antissinais\n",
              "regiao-BR       Centro-Oeste\n",
              "pre-pandemia               0\n",
              "dtype: object"
            ]
          },
          "metadata": {},
          "execution_count": 13
        }
      ]
    },
    {
      "cell_type": "code",
      "source": [
        "df[df['pre-pandemia'] == 0].max()"
      ],
      "metadata": {
        "colab": {
          "base_uri": "https://localhost:8080/"
        },
        "id": "dt5Gfm7Naq1D",
        "outputId": "7bfcb13c-e9f4-47e0-ce87-220230cac600"
      },
      "execution_count": 14,
      "outputs": [
        {
          "output_type": "execute_result",
          "data": {
            "text/plain": [
              "id_cliente      XXXXXXX99\n",
              "idade                  77\n",
              "renda               30000\n",
              "produto            sombra\n",
              "regiao-BR             Sul\n",
              "pre-pandemia            0\n",
              "dtype: object"
            ]
          },
          "metadata": {},
          "execution_count": 14
        }
      ]
    },
    {
      "cell_type": "markdown",
      "source": [
        "b. Plote histogramas / boxplots"
      ],
      "metadata": {
        "id": "Jfs8TO-6EfId"
      }
    },
    {
      "cell_type": "code",
      "source": [
        "df[df['pre-pandemia'] == 1].hist(bins = 10, figsize=(10,5))"
      ],
      "metadata": {
        "colab": {
          "base_uri": "https://localhost:8080/",
          "height": 388
        },
        "id": "rFVBVAUhFktt",
        "outputId": "56248075-ee05-4b2a-e4f3-8c602a559ecc"
      },
      "execution_count": 15,
      "outputs": [
        {
          "output_type": "execute_result",
          "data": {
            "text/plain": [
              "array([[<Axes: title={'center': 'idade'}>,\n",
              "        <Axes: title={'center': 'renda'}>],\n",
              "       [<Axes: title={'center': 'pre-pandemia'}>, <Axes: >]], dtype=object)"
            ]
          },
          "metadata": {},
          "execution_count": 15
        },
        {
          "output_type": "display_data",
          "data": {
            "text/plain": [
              "<Figure size 720x360 with 4 Axes>"
            ],
            "image/png": "[encoded data removed]"
          },
          "metadata": {
            "needs_background": "light"
          }
        }
      ]
    },
    {
      "cell_type": "code",
      "source": [
        "df[df['pre-pandemia'] == 0].hist(bins = 10, figsize=(10,5))"
      ],
      "metadata": {
        "colab": {
          "base_uri": "https://localhost:8080/",
          "height": 388
        },
        "id": "GNdSptMZe2un",
        "outputId": "d13e4aa5-0f9d-4586-c3a3-49885dfe8a2a"
      },
      "execution_count": 16,
      "outputs": [
        {
          "output_type": "execute_result",
          "data": {
            "text/plain": [
              "array([[<Axes: title={'center': 'idade'}>,\n",
              "        <Axes: title={'center': 'renda'}>],\n",
              "       [<Axes: title={'center': 'pre-pandemia'}>, <Axes: >]], dtype=object)"
            ]
          },
          "metadata": {},
          "execution_count": 16
        },
        {
          "output_type": "display_data",
          "data": {
            "text/plain": [
              "<Figure size 720x360 with 4 Axes>"
            ],
            "image/png": "[encoded data removed]"
          },
          "metadata": {
            "needs_background": "light"
          }
        }
      ]
    },
    {
      "cell_type": "code",
      "source": [
        "df[df['pre-pandemia'] == 0].hist(bins = 10, figsize=(10,5))"
      ],
      "metadata": {
        "colab": {
          "base_uri": "https://localhost:8080/",
          "height": 388
        },
        "id": "vJp0WFmxbYtA",
        "outputId": "73ee727f-51b5-4829-f20e-ba0f6fad3b03"
      },
      "execution_count": 17,
      "outputs": [
        {
          "output_type": "execute_result",
          "data": {
            "text/plain": [
              "array([[<Axes: title={'center': 'idade'}>,\n",
              "        <Axes: title={'center': 'renda'}>],\n",
              "       [<Axes: title={'center': 'pre-pandemia'}>, <Axes: >]], dtype=object)"
            ]
          },
          "metadata": {},
          "execution_count": 17
        },
        {
          "output_type": "display_data",
          "data": {
            "text/plain": [
              "<Figure size 720x360 with 4 Axes>"
            ],
            "image/png": "[encoded data removed]"
          },
          "metadata": {
            "needs_background": "light"
          }
        }
      ]
    },
    {
      "cell_type": "code",
      "source": [
        "ax = sns.boxplot(x = 'idade', y = 'pre-pandemia', data = df, orient = 'h')\n",
        "ax.figure.set_size_inches(12, 4)\n",
        "ax.set_title('Distribuição das vendas por idade', fontsize=18)\n",
        "ax.set_xlabel('produtos', fontsize=14)\n",
        "ax"
      ],
      "metadata": {
        "colab": {
          "base_uri": "https://localhost:8080/",
          "height": 304
        },
        "id": "Ov4-dSJ3GYFs",
        "outputId": "a00da61a-746e-4503-c304-2b3ab026721c"
      },
      "execution_count": 18,
      "outputs": [
        {
          "output_type": "execute_result",
          "data": {
            "text/plain": [
              "<Axes: title={'center': 'Distribuição das vendas por idade'}, xlabel='produtos', ylabel='pre-pandemia'>"
            ]
          },
          "metadata": {},
          "execution_count": 18
        },
        {
          "output_type": "display_data",
          "data": {
            "text/plain": [
              "<Figure size 864x288 with 1 Axes>"
            ],
            "image/png": "[encoded data removed]"
          },
          "metadata": {
            "needs_background": "light"
          }
        }
      ]
    },
    {
      "cell_type": "code",
      "source": [
        "ax = sns.boxplot(data=df.renda, orient='h', width=0.5)\n",
        "ax.figure.set_size_inches(12, 6)\n",
        "ax.set_title('Distribuição da Renda das clientes', fontsize=20)\n",
        "ax.set_xlabel('Reais (R$)', fontsize=16)\n",
        "ax"
      ],
      "metadata": {
        "colab": {
          "base_uri": "https://localhost:8080/",
          "height": 410
        },
        "id": "QJf9O8iFjyqJ",
        "outputId": "f67d4241-f7d7-4b1f-f433-abefcd16d1f9"
      },
      "execution_count": 19,
      "outputs": [
        {
          "output_type": "execute_result",
          "data": {
            "text/plain": [
              "<Axes: title={'center': 'Distribuição da Renda das clientes'}, xlabel='Reais (R$)'>"
            ]
          },
          "metadata": {},
          "execution_count": 19
        },
        {
          "output_type": "display_data",
          "data": {
            "text/plain": [
              "<Figure size 864x432 with 1 Axes>"
            ],
            "image/png": "[encoded data removed]"
          },
          "metadata": {
            "needs_background": "light"
          }
        }
      ]
    },
    {
      "cell_type": "markdown",
      "source": [
        "2. Você notou diferenças nítidas pré e pós pandemia? Como você poderia provar estatisticamente que essas diferenças são significativas ? (pergunta extra)"
      ],
      "metadata": {
        "id": "aqJkSZu0UCNz"
      }
    },
    {
      "cell_type": "code",
      "source": [
        "df[df['pre-pandemia'] == 1].mean()"
      ],
      "metadata": {
        "colab": {
          "base_uri": "https://localhost:8080/"
        },
        "id": "hag2KgOMhp43",
        "outputId": "3fdc3ab7-d7f7-4fa7-daa7-8069ca7f3c12"
      },
      "execution_count": 20,
      "outputs": [
        {
          "output_type": "stream",
          "name": "stderr",
          "text": [
            "<ipython-input-20-dbc8354e95cd>:1: FutureWarning: Dropping of nuisance columns in DataFrame reductions (with 'numeric_only=None') is deprecated; in a future version this will raise TypeError.  Select only valid columns before calling the reduction.\n",
            "  df[df['pre-pandemia'] == 1].mean()\n"
          ]
        },
        {
          "output_type": "execute_result",
          "data": {
            "text/plain": [
              "idade             39.881188\n",
              "renda           9180.643564\n",
              "pre-pandemia       1.000000\n",
              "dtype: float64"
            ]
          },
          "metadata": {},
          "execution_count": 20
        }
      ]
    },
    {
      "cell_type": "code",
      "source": [
        "df[df['pre-pandemia'] == 0].mean()"
      ],
      "metadata": {
        "colab": {
          "base_uri": "https://localhost:8080/"
        },
        "id": "EHbTEK8KjQ7o",
        "outputId": "6a9678a7-71d8-45b0-e3f3-0debfb21c0ce"
      },
      "execution_count": 21,
      "outputs": [
        {
          "output_type": "stream",
          "name": "stderr",
          "text": [
            "<ipython-input-21-54b28ece4506>:1: FutureWarning: Dropping of nuisance columns in DataFrame reductions (with 'numeric_only=None') is deprecated; in a future version this will raise TypeError.  Select only valid columns before calling the reduction.\n",
            "  df[df['pre-pandemia'] == 0].mean()\n"
          ]
        },
        {
          "output_type": "execute_result",
          "data": {
            "text/plain": [
              "idade              44.901961\n",
              "renda           13968.500000\n",
              "pre-pandemia        0.000000\n",
              "dtype: float64"
            ]
          },
          "metadata": {},
          "execution_count": 21
        }
      ]
    },
    {
      "cell_type": "markdown",
      "source": [
        "**Aplicar o Teste de normalidade - normaltest**"
      ],
      "metadata": {
        "id": "JFpdSAecxGZ2"
      }
    },
    {
      "cell_type": "code",
      "source": [
        "from scipy.stats import normaltest"
      ],
      "metadata": {
        "id": "N3Qcz5HMUFeB"
      },
      "execution_count": 22,
      "outputs": []
    },
    {
      "cell_type": "code",
      "source": [
        "normaltest(df['pre-pandemia'])"
      ],
      "metadata": {
        "colab": {
          "base_uri": "https://localhost:8080/"
        },
        "id": "rCTRkLMkwYwh",
        "outputId": "18d4e729-8f23-4c1d-e851-8d3e0bbd523b"
      },
      "execution_count": 23,
      "outputs": [
        {
          "output_type": "execute_result",
          "data": {
            "text/plain": [
              "NormaltestResult(statistic=1087.6907447044205, pvalue=6.470767250750225e-237)"
            ]
          },
          "metadata": {},
          "execution_count": 23
        }
      ]
    },
    {
      "cell_type": "code",
      "source": [
        "significancia = 0.02"
      ],
      "metadata": {
        "id": "2FQlj8jt9mtb"
      },
      "execution_count": 24,
      "outputs": []
    },
    {
      "cell_type": "markdown",
      "source": [
        "**Critério do valor**\n",
        "\n",
        "> ### Rejeitar $H_0$ se o valor $p\\leq 0,05$"
      ],
      "metadata": {
        "id": "U-qG7cY0xVmv"
      }
    },
    {
      "cell_type": "code",
      "source": [
        "stat_test, p_valor = normaltest(df['pre-pandemia'])\n",
        "print(stat_test)\n",
        "print(p_valor)"
      ],
      "metadata": {
        "colab": {
          "base_uri": "https://localhost:8080/"
        },
        "id": "FRi1xAgJx7ba",
        "outputId": "f79e53ed-d737-4dc4-9bb2-8d6d8aa103d5"
      },
      "execution_count": 25,
      "outputs": [
        {
          "output_type": "stream",
          "name": "stdout",
          "text": [
            "1087.6907447044205\n",
            "6.470767250750225e-237\n"
          ]
        }
      ]
    },
    {
      "cell_type": "code",
      "source": [
        "p_valor <= significancia"
      ],
      "metadata": {
        "colab": {
          "base_uri": "https://localhost:8080/"
        },
        "id": "Il5nRPbXxa1n",
        "outputId": "94e39190-b36a-48e4-f4d3-c6c13cf610cc"
      },
      "execution_count": 26,
      "outputs": [
        {
          "output_type": "execute_result",
          "data": {
            "text/plain": [
              "True"
            ]
          },
          "metadata": {},
          "execution_count": 26
        }
      ]
    },
    {
      "cell_type": "markdown",
      "source": [
        "**O p_valor é (>)maior (p≤0,05), portanto não devemos rejeitar $H_0$, trata-se de uma distribuição normal.**"
      ],
      "metadata": {
        "id": "USlfrtA0k9ht"
      }
    },
    {
      "cell_type": "markdown",
      "source": [
        "3. Suponha agora que os dados recebidos são somente uma amostra da sua população total de clientes. Suponha que a sua \"população\" de clientes verdadeira é de 100000. Qual o tamanho da amostra necessária para chegarmos a conclusões com 95% de confiança e 2% de margem de erro? A base informada é suficiente? E com uma margem de erro de 10%?"
      ],
      "metadata": {
        "id": "hadlejHBX0AX"
      }
    },
    {
      "cell_type": "code",
      "source": [
        "from scipy.stats import norm"
      ],
      "metadata": {
        "id": "oDiUS4kaFm7C"
      },
      "execution_count": 27,
      "outputs": []
    },
    {
      "cell_type": "code",
      "source": [
        "N = 100000\n",
        "N"
      ],
      "metadata": {
        "id": "9aTLTMsDLO5_",
        "colab": {
          "base_uri": "https://localhost:8080/"
        },
        "outputId": "1ffc8c6d-4138-495a-d582-7f56bb1263c5"
      },
      "execution_count": 28,
      "outputs": [
        {
          "output_type": "execute_result",
          "data": {
            "text/plain": [
              "100000"
            ]
          },
          "metadata": {},
          "execution_count": 28
        }
      ]
    },
    {
      "cell_type": "code",
      "source": [
        "confianca = 0.95\n",
        "confianca"
      ],
      "metadata": {
        "colab": {
          "base_uri": "https://localhost:8080/"
        },
        "id": "_BXQEmfdwK7D",
        "outputId": "24599d40-6b37-42fc-bdd7-075492f25c86"
      },
      "execution_count": 29,
      "outputs": [
        {
          "output_type": "execute_result",
          "data": {
            "text/plain": [
              "0.95"
            ]
          },
          "metadata": {},
          "execution_count": 29
        }
      ]
    },
    {
      "cell_type": "code",
      "source": [
        "e = 0.02\n",
        "e"
      ],
      "metadata": {
        "colab": {
          "base_uri": "https://localhost:8080/"
        },
        "id": "ThO2mjAxwKlt",
        "outputId": "cb4824cd-7dde-4612-b2eb-8cfaf484e002"
      },
      "execution_count": 30,
      "outputs": [
        {
          "output_type": "execute_result",
          "data": {
            "text/plain": [
              "0.02"
            ]
          },
          "metadata": {},
          "execution_count": 30
        }
      ]
    },
    {
      "cell_type": "code",
      "source": [
        "erro_percentual = 0.10\n",
        "erro_percentual"
      ],
      "metadata": {
        "colab": {
          "base_uri": "https://localhost:8080/"
        },
        "id": "nTUbrPmGxpJ0",
        "outputId": "55b9f898-5225-4014-8deb-97e7804d88fe"
      },
      "execution_count": 31,
      "outputs": [
        {
          "output_type": "execute_result",
          "data": {
            "text/plain": [
              "0.1"
            ]
          },
          "metadata": {},
          "execution_count": 31
        }
      ]
    },
    {
      "cell_type": "markdown",
      "source": [
        "### Tamanho da amostra ($1 - \\alpha = 95\\%$)"
      ],
      "metadata": {
        "id": "IDc7z6LO7YDJ"
      }
    },
    {
      "cell_type": "code",
      "source": [
        "0.5 + (0.95 / 2)"
      ],
      "metadata": {
        "id": "MgSgLAJU9yjy",
        "colab": {
          "base_uri": "https://localhost:8080/"
        },
        "outputId": "ae826ca0-8090-48e3-dea8-747d40f89fa3"
      },
      "execution_count": 32,
      "outputs": [
        {
          "output_type": "execute_result",
          "data": {
            "text/plain": [
              "0.975"
            ]
          },
          "metadata": {},
          "execution_count": 32
        }
      ]
    },
    {
      "cell_type": "code",
      "source": [
        "z = norm.ppf(0.975)\n",
        "z"
      ],
      "metadata": {
        "id": "6J0Ct9sLmGdk",
        "colab": {
          "base_uri": "https://localhost:8080/"
        },
        "outputId": "7e8188e1-bc8a-4981-ad4e-e4a33f71170b"
      },
      "execution_count": 33,
      "outputs": [
        {
          "output_type": "execute_result",
          "data": {
            "text/plain": [
              "1.959963984540054"
            ]
          },
          "metadata": {},
          "execution_count": 33
        }
      ]
    },
    {
      "cell_type": "code",
      "source": [],
      "metadata": {
        "id": "EsFwlMZ4ouiE"
      },
      "execution_count": 33,
      "outputs": []
    },
    {
      "cell_type": "markdown",
      "source": [
        "##**Desafio 2: Determinando o Estoque de Segurança.**"
      ],
      "metadata": {
        "id": "VDYJAqIu0xu_"
      }
    },
    {
      "cell_type": "markdown",
      "source": [
        "Suponha agora que você trabalha em uma empresa de produtos perecíveis, como\n",
        "Danone ou Nestlé. Para a empresa, é muito importante que a sua política de estoque seja eficiente. É necessário manter um estoque de segurança em todos os produtos(acima da previsão de vendas), pois, caso contrário, as pessoas podem não encontrar os produtos no supermercado. Mas, ao mesmo tempo, se o estoque estiver em excesso, isso pode representar um grande custo. Os produtos podem não ser comprados, e consequentemente, jogados fora, o que na indústria se chama\n",
        "\"desova\".\n",
        "\n",
        "Para achar o equilíbrio perfeito, o gerente de vendas pediu a ajuda a você, do time de análise de dados, e ele gostaria de saber qual o estoque de segurança ideal. Para responder esse desafio, antes vamos abordar alguns conceitos importantes na indústria:\n",
        "\n",
        "● Estoque de segurança: é uma quantidade de estoques que se tem, mas que\n",
        "não se deseja usar. É como um seguro do carro: é bom ter um, mas você\n",
        "não quer precisar usá-lo. Isto porque ele é calculado apenas para suprir\n",
        "uma segurança em casos de variações inesperadas, algo que você não pode\n",
        "prever ou controlar: problemas no fornecedor, atrasos na entrega, uma\n",
        "demanda que não foi prevista…\n",
        "\n",
        "● Demanda: se a demanda é bem estável e conhecida com antecedência,\n",
        "então temos pouca variabilidade a cada mês e não precisamos nos proteger\n",
        "muito contra essas variações (pois sabemos que elas não ocorrem); por\n",
        "outro lado, se seu produto tem uma variabilidade nas vendas muito grande,\n",
        "então precisaremos de estoque de segurança maior. Isto tudo é medido\n",
        "matematicamente através do desvio padrão da demanda, que neste caso é\n",
        "calculado como o desvio padrão da previsão da demanda. Um bom sistema\n",
        "de previsões é capaz de oferecer este número, ou ele pode ser estimado de\n",
        "maneiras mais simples, mas menos precisas.\n",
        "\n",
        "● Lead time (tempo de entrega) do produto: se o tempo de entrega é elevado\n",
        "e sua variabilidade é alta (se uma entrega é feita em 5 dias, outra em 8 dias,\n",
        "outra em 2 dias), então é preciso ter uma segurança frente à este tempo\n",
        "média de entrega de 5 dias, pois algumas vezes ela chega a demorar 8 dias.\n",
        "Mas não queremos nos planejar sempre para receber apenas depois de 8\n",
        "dias, pois isto acarretaria custos muito altos, então o estoque de segurança\n",
        "utiliza a estatística para auxiliar nessa tarefa.\n",
        "\n",
        "● Nível de serviço desejado: nem todos os produtos merecem a mesma\n",
        "atenção e o mesmo cuidado; alguns produtos são críticos, mais importantes\n",
        "ou mais atrativos, e por isso merecem estar sempre presentes, enquanto\n",
        "em outros produtos podemos nos dar ao luxo de não tê-lo em estoque\n",
        "sempre. Matematicamente, isto é modelado através do nível de serviço\n",
        "desejado: quanto maior o nível de serviço (um número percentual de 0 a\n",
        "100), maior será o estoque de segurança pois queremos mais garantias que\n",
        "o produto estará sempre disponível. O nível de serviço depende de cada\n",
        "setor: palitos de fósforo num supermercado não devem ter nível de serviço\n",
        "muito alto, enquanto antibióticos numa farmácia hospitalar devem ter nível\n",
        "de serviço altíssimo. O nível de serviço indica o quanto queremos estar\n",
        "seguros frente às variabilidades que ocorrem, em outras palavras, frente\n",
        "aos desvios padrões da demanda e do lead time.\n",
        "\n",
        "● A Fórmula Mãe do Estoque de segurança:\n",
        "A maioria das indústrias calcula o estoque de segurança tomando como\n",
        "base a distribuição normal. Assumindo que suas vendas seguem essa\n",
        "distribuição, ela irá determinar qual a probabilidade de se vender certo\n",
        "produto.\n",
        "\n"
      ],
      "metadata": {
        "id": "XEMXuky1f5Gf"
      }
    },
    {
      "cell_type": "markdown",
      "source": [
        "![image.png](data:image/png;base64,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)"
      ],
      "metadata": {
        "id": "6xZt39mQ7nGc"
      }
    },
    {
      "cell_type": "markdown",
      "source": [
        "Por exemplo, se você vende na média 1000 unidades de produto por\n",
        "semana, a distribuição mostra que você tem uma alta probabilidade de\n",
        "vender em torno de 1000 todas as semanas, e uma baixa probabilidade de\n",
        "esse número ser 20 ou 200000 de produtos vendidos.\n",
        "\n",
        "Assim, você pode utilizar a distribuição normal, para entender qual o seu\n",
        "nível de serviço desejado. Ou seja, se você deseja um nível de serviço de\n",
        "90%, a curva normal irá te fornecer o multiplicador desejado (variações da\n",
        "média) para você alcançar 90% da demanda.\n",
        "\n",
        "Portanto, matematicamente, podemos determinar o estoque de segurança\n",
        "utilizando os conceitos abordados em estatística, como a tabela da\n",
        "distribuição normal, utilizando a fórmula abaixo.\n"
      ],
      "metadata": {
        "id": "Atxn-SyC7x3_"
      }
    },
    {
      "cell_type": "markdown",
      "source": [
        "Estoque de Segurança =\n",
        "# $$Z * \\sqrt{\\sigma^2_dt + \\sigma^2_td^2}$$ \n"
      ],
      "metadata": {
        "id": "8QdgHz2Nkb7N"
      }
    },
    {
      "cell_type": "markdown",
      "source": [
        "sendo :\n",
        "\n",
        "z = o valor da tabela da distribuição normal, que indica a quantos desvios\n",
        "padrões ao redor da média temos que tomar para cobrir a proporção da\n",
        "área sob a curva normal /nível de serviço desejado.\n",
        "\n",
        "d = demanda média passada ou estimada\n",
        "\n",
        "t = lead time médio.\n",
        "\n",
        "σ = desvio padrão / variação da demanda 𝑑\n",
        "\n",
        "σ = desvio padrão / variação do lead time 𝑡\n",
        "\n",
        "Assim se o tempo de entrega tiver pouca variabilidade a fórmula pode ser\n",
        "aproximada por :\n",
        "\n"
      ],
      "metadata": {
        "id": "YXYugWY9qGgm"
      }
    },
    {
      "cell_type": "markdown",
      "source": [
        "Estoque de Segurança =\n",
        "# $$Z * \\sqrt{\\sigma^2_dt}$$ "
      ],
      "metadata": {
        "id": "D8ro5DHoofkq"
      }
    },
    {
      "cell_type": "markdown",
      "source": [
        "e a intuição da fórmula pode ser vista como : O quanto de variação da\n",
        "média da demanda eu estou disposto a aceitar além do natural (z-score do\n",
        "nível de serviço) \n",
        "* desvio médio da demanda que já ocorre naturalmente \n",
        "* tempo de entrega.\n",
        "\n",
        "Matematicamente o valor obtido pela fórmula deve ser sempre\n",
        "arredondado para cima, para garantir que estamos cobertos contra\n",
        "variações indesejadas.\n",
        "\n",
        "Dados esses conceitos vamos ao passo a passo do desafio.\n",
        "O gerente de vendas te enviou o arquivo desafio_02_estoque.csv contendo os\n",
        "dados de vendas de iogurte e o lead time de 2015 a 2022.\n",
        "\n",
        "1. Analise os dados das vendas e do lead time. Eles seguem uma distribuição\n",
        "normal? Que características você identificou para chegar a essa conclusão?\n",
        "\n",
        "2. Assuma que:\n",
        "\n",
        "  a. Os dados seguem uma distribuição normal.\n",
        "\n",
        "  b. O time de vendas utilize para o produto em questão o nível de serviço\n",
        "de 99,87%\n",
        "\n",
        "  c. O produto não tem sazonalidade (todos os meses vende valores próximos) e a demanda média passada é uma boa estimativa para a projetada, de acordo com o time de planejamento de demanda.\n",
        "\n",
        "Calcule, com os dados fornecidos, o estoque de segurança desejado."
      ],
      "metadata": {
        "id": "qpUfFFuJqR2w"
      }
    },
    {
      "cell_type": "code",
      "source": [
        "import pandas as pd\n",
        "import numpy as np\n",
        "import seaborn as sns\n",
        "import matplotlib.pyplot as plt\n",
        "%matplotlib inline"
      ],
      "metadata": {
        "id": "k5gAhPHW04p3"
      },
      "execution_count": 34,
      "outputs": []
    },
    {
      "cell_type": "code",
      "source": [
        "df2 = pd.read_csv('desafio_02_estoque-230209-165113.csv')"
      ],
      "metadata": {
        "id": "1xMdeE90aqCq"
      },
      "execution_count": 35,
      "outputs": []
    },
    {
      "cell_type": "code",
      "source": [
        "df2.head()"
      ],
      "metadata": {
        "id": "tMEO9djNbDSw",
        "colab": {
          "base_uri": "https://localhost:8080/",
          "height": 206
        },
        "outputId": "48e28ef3-cc76-46ed-9e59-abd9f1ee3be0"
      },
      "execution_count": 36,
      "outputs": [
        {
          "output_type": "execute_result",
          "data": {
            "text/plain": [
              "         data  vendas-iogurte  lead-time\n",
              "0  2015-01-04            5083          4\n",
              "1  2015-01-11            4936          3\n",
              "2  2015-01-18            5051          6\n",
              "3  2015-01-25            4846          4\n",
              "4  2015-02-01            5003          5"
            ],
            "text/html": [
              "\n",
              "  <div id=\"df-97ea6786-6501-4f24-901a-7631ff3e68c0\">\n",
              "    <div class=\"colab-df-container\">\n",
              "      <div>\n",
              "<style scoped>\n",
              "    .dataframe tbody tr th:only-of-type {\n",
              "        vertical-align: middle;\n",
              "    }\n",
              "\n",
              "    .dataframe tbody tr th {\n",
              "        vertical-align: top;\n",
              "    }\n",
              "\n",
              "    .dataframe thead th {\n",
              "        text-align: right;\n",
              "    }\n",
              "</style>\n",
              "<table border=\"1\" class=\"dataframe\">\n",
              "  <thead>\n",
              "    <tr style=\"text-align: right;\">\n",
              "      <th></th>\n",
              "      <th>data</th>\n",
              "      <th>vendas-iogurte</th>\n",
              "      <th>lead-time</th>\n",
              "    </tr>\n",
              "  </thead>\n",
              "  <tbody>\n",
              "    <tr>\n",
              "      <th>0</th>\n",
              "      <td>2015-01-04</td>\n",
              "      <td>5083</td>\n",
              "      <td>4</td>\n",
              "    </tr>\n",
              "    <tr>\n",
              "      <th>1</th>\n",
              "      <td>2015-01-11</td>\n",
              "      <td>4936</td>\n",
              "      <td>3</td>\n",
              "    </tr>\n",
              "    <tr>\n",
              "      <th>2</th>\n",
              "      <td>2015-01-18</td>\n",
              "      <td>5051</td>\n",
              "      <td>6</td>\n",
              "    </tr>\n",
              "    <tr>\n",
              "      <th>3</th>\n",
              "      <td>2015-01-25</td>\n",
              "      <td>4846</td>\n",
              "      <td>4</td>\n",
              "    </tr>\n",
              "    <tr>\n",
              "      <th>4</th>\n",
              "      <td>2015-02-01</td>\n",
              "      <td>5003</td>\n",
              "      <td>5</td>\n",
              "    </tr>\n",
              "  </tbody>\n",
              "</table>\n",
              "</div>\n",
              "      <button class=\"colab-df-convert\" onclick=\"convertToInteractive('df-97ea6786-6501-4f24-901a-7631ff3e68c0')\"\n",
              "              title=\"Convert this dataframe to an interactive table.\"\n",
              "              style=\"display:none;\">\n",
              "        \n",
              "  <svg xmlns=\"http://www.w3.org/2000/svg\" height=\"24px\"viewBox=\"0 0 24 24\"\n",
              "       width=\"24px\">\n",
              "    <path d=\"M0 0h24v24H0V0z\" fill=\"none\"/>\n",
              "    <path d=\"M18.56 5.44l.94 2.06.94-2.06 2.06-.94-2.06-.94-.94-2.06-.94 2.06-2.06.94zm-11 1L8.5 8.5l.94-2.06 2.06-.94-2.06-.94L8.5 2.5l-.94 2.06-2.06.94zm10 10l.94 2.06.94-2.06 2.06-.94-2.06-.94-.94-2.06-.94 2.06-2.06.94z\"/><path d=\"M17.41 7.96l-1.37-1.37c-.4-.4-.92-.59-1.43-.59-.52 0-1.04.2-1.43.59L10.3 9.45l-7.72 7.72c-.78.78-.78 2.05 0 2.83L4 21.41c.39.39.9.59 1.41.59.51 0 1.02-.2 1.41-.59l7.78-7.78 2.81-2.81c.8-.78.8-2.07 0-2.86zM5.41 20L4 18.59l7.72-7.72 1.47 1.35L5.41 20z\"/>\n",
              "  </svg>\n",
              "      </button>\n",
              "      \n",
              "  <style>\n",
              "    .colab-df-container {\n",
              "      display:flex;\n",
              "      flex-wrap:wrap;\n",
              "      gap: 12px;\n",
              "    }\n",
              "\n",
              "    .colab-df-convert {\n",
              "      background-color: #E8F0FE;\n",
              "      border: none;\n",
              "      border-radius: 50%;\n",
              "      cursor: pointer;\n",
              "      display: none;\n",
              "      fill: #1967D2;\n",
              "      height: 32px;\n",
              "      padding: 0 0 0 0;\n",
              "      width: 32px;\n",
              "    }\n",
              "\n",
              "    .colab-df-convert:hover {\n",
              "      background-color: #E2EBFA;\n",
              "      box-shadow: 0px 1px 2px rgba(60, 64, 67, 0.3), 0px 1px 3px 1px rgba(60, 64, 67, 0.15);\n",
              "      fill: #174EA6;\n",
              "    }\n",
              "\n",
              "    [theme=dark] .colab-df-convert {\n",
              "      background-color: #3B4455;\n",
              "      fill: #D2E3FC;\n",
              "    }\n",
              "\n",
              "    [theme=dark] .colab-df-convert:hover {\n",
              "      background-color: #434B5C;\n",
              "      box-shadow: 0px 1px 3px 1px rgba(0, 0, 0, 0.15);\n",
              "      filter: drop-shadow(0px 1px 2px rgba(0, 0, 0, 0.3));\n",
              "      fill: #FFFFFF;\n",
              "    }\n",
              "  </style>\n",
              "\n",
              "      <script>\n",
              "        const buttonEl =\n",
              "          document.querySelector('#df-97ea6786-6501-4f24-901a-7631ff3e68c0 button.colab-df-convert');\n",
              "        buttonEl.style.display =\n",
              "          google.colab.kernel.accessAllowed ? 'block' : 'none';\n",
              "\n",
              "        async function convertToInteractive(key) {\n",
              "          const element = document.querySelector('#df-97ea6786-6501-4f24-901a-7631ff3e68c0');\n",
              "          const dataTable =\n",
              "            await google.colab.kernel.invokeFunction('convertToInteractive',\n",
              "                                                     [key], {});\n",
              "          if (!dataTable) return;\n",
              "\n",
              "          const docLinkHtml = 'Like what you see? Visit the ' +\n",
              "            '<a target=\"_blank\" href=https://colab.research.google.com/notebooks/data_table.ipynb>data table notebook</a>'\n",
              "            + ' to learn more about interactive tables.';\n",
              "          element.innerHTML = '';\n",
              "          dataTable['output_type'] = 'display_data';\n",
              "          await google.colab.output.renderOutput(dataTable, element);\n",
              "          const docLink = document.createElement('div');\n",
              "          docLink.innerHTML = docLinkHtml;\n",
              "          element.appendChild(docLink);\n",
              "        }\n",
              "      </script>\n",
              "    </div>\n",
              "  </div>\n",
              "  "
            ]
          },
          "metadata": {},
          "execution_count": 36
        }
      ]
    },
    {
      "cell_type": "code",
      "source": [
        "df2.shape"
      ],
      "metadata": {
        "id": "SacUCVmcQh5e",
        "colab": {
          "base_uri": "https://localhost:8080/"
        },
        "outputId": "44ad7950-3ee8-4db4-d020-d7354c7b6b80"
      },
      "execution_count": 37,
      "outputs": [
        {
          "output_type": "execute_result",
          "data": {
            "text/plain": [
              "(370, 3)"
            ]
          },
          "metadata": {},
          "execution_count": 37
        }
      ]
    },
    {
      "cell_type": "code",
      "source": [
        "df2.describe().round(2)"
      ],
      "metadata": {
        "id": "-Ook74lGTdKN",
        "colab": {
          "base_uri": "https://localhost:8080/",
          "height": 300
        },
        "outputId": "42a0c5d3-412a-4eb4-c409-ec3f26202d22"
      },
      "execution_count": 38,
      "outputs": [
        {
          "output_type": "execute_result",
          "data": {
            "text/plain": [
              "       vendas-iogurte  lead-time\n",
              "count          370.00     370.00\n",
              "mean          4999.17       5.09\n",
              "std             77.29       1.58\n",
              "min           4811.00       1.00\n",
              "25%           4947.00       4.00\n",
              "50%           4996.00       5.00\n",
              "75%           5054.00       6.00\n",
              "max           5233.00       9.00"
            ],
            "text/html": [
              "\n",
              "  <div id=\"df-2d07f4ac-88e5-4c4d-a714-b7f1c318c622\">\n",
              "    <div class=\"colab-df-container\">\n",
              "      <div>\n",
              "<style scoped>\n",
              "    .dataframe tbody tr th:only-of-type {\n",
              "        vertical-align: middle;\n",
              "    }\n",
              "\n",
              "    .dataframe tbody tr th {\n",
              "        vertical-align: top;\n",
              "    }\n",
              "\n",
              "    .dataframe thead th {\n",
              "        text-align: right;\n",
              "    }\n",
              "</style>\n",
              "<table border=\"1\" class=\"dataframe\">\n",
              "  <thead>\n",
              "    <tr style=\"text-align: right;\">\n",
              "      <th></th>\n",
              "      <th>vendas-iogurte</th>\n",
              "      <th>lead-time</th>\n",
              "    </tr>\n",
              "  </thead>\n",
              "  <tbody>\n",
              "    <tr>\n",
              "      <th>count</th>\n",
              "      <td>370.00</td>\n",
              "      <td>370.00</td>\n",
              "    </tr>\n",
              "    <tr>\n",
              "      <th>mean</th>\n",
              "      <td>4999.17</td>\n",
              "      <td>5.09</td>\n",
              "    </tr>\n",
              "    <tr>\n",
              "      <th>std</th>\n",
              "      <td>77.29</td>\n",
              "      <td>1.58</td>\n",
              "    </tr>\n",
              "    <tr>\n",
              "      <th>min</th>\n",
              "      <td>4811.00</td>\n",
              "      <td>1.00</td>\n",
              "    </tr>\n",
              "    <tr>\n",
              "      <th>25%</th>\n",
              "      <td>4947.00</td>\n",
              "      <td>4.00</td>\n",
              "    </tr>\n",
              "    <tr>\n",
              "      <th>50%</th>\n",
              "      <td>4996.00</td>\n",
              "      <td>5.00</td>\n",
              "    </tr>\n",
              "    <tr>\n",
              "      <th>75%</th>\n",
              "      <td>5054.00</td>\n",
              "      <td>6.00</td>\n",
              "    </tr>\n",
              "    <tr>\n",
              "      <th>max</th>\n",
              "      <td>5233.00</td>\n",
              "      <td>9.00</td>\n",
              "    </tr>\n",
              "  </tbody>\n",
              "</table>\n",
              "</div>\n",
              "      <button class=\"colab-df-convert\" onclick=\"convertToInteractive('df-2d07f4ac-88e5-4c4d-a714-b7f1c318c622')\"\n",
              "              title=\"Convert this dataframe to an interactive table.\"\n",
              "              style=\"display:none;\">\n",
              "        \n",
              "  <svg xmlns=\"http://www.w3.org/2000/svg\" height=\"24px\"viewBox=\"0 0 24 24\"\n",
              "       width=\"24px\">\n",
              "    <path d=\"M0 0h24v24H0V0z\" fill=\"none\"/>\n",
              "    <path d=\"M18.56 5.44l.94 2.06.94-2.06 2.06-.94-2.06-.94-.94-2.06-.94 2.06-2.06.94zm-11 1L8.5 8.5l.94-2.06 2.06-.94-2.06-.94L8.5 2.5l-.94 2.06-2.06.94zm10 10l.94 2.06.94-2.06 2.06-.94-2.06-.94-.94-2.06-.94 2.06-2.06.94z\"/><path d=\"M17.41 7.96l-1.37-1.37c-.4-.4-.92-.59-1.43-.59-.52 0-1.04.2-1.43.59L10.3 9.45l-7.72 7.72c-.78.78-.78 2.05 0 2.83L4 21.41c.39.39.9.59 1.41.59.51 0 1.02-.2 1.41-.59l7.78-7.78 2.81-2.81c.8-.78.8-2.07 0-2.86zM5.41 20L4 18.59l7.72-7.72 1.47 1.35L5.41 20z\"/>\n",
              "  </svg>\n",
              "      </button>\n",
              "      \n",
              "  <style>\n",
              "    .colab-df-container {\n",
              "      display:flex;\n",
              "      flex-wrap:wrap;\n",
              "      gap: 12px;\n",
              "    }\n",
              "\n",
              "    .colab-df-convert {\n",
              "      background-color: #E8F0FE;\n",
              "      border: none;\n",
              "      border-radius: 50%;\n",
              "      cursor: pointer;\n",
              "      display: none;\n",
              "      fill: #1967D2;\n",
              "      height: 32px;\n",
              "      padding: 0 0 0 0;\n",
              "      width: 32px;\n",
              "    }\n",
              "\n",
              "    .colab-df-convert:hover {\n",
              "      background-color: #E2EBFA;\n",
              "      box-shadow: 0px 1px 2px rgba(60, 64, 67, 0.3), 0px 1px 3px 1px rgba(60, 64, 67, 0.15);\n",
              "      fill: #174EA6;\n",
              "    }\n",
              "\n",
              "    [theme=dark] .colab-df-convert {\n",
              "      background-color: #3B4455;\n",
              "      fill: #D2E3FC;\n",
              "    }\n",
              "\n",
              "    [theme=dark] .colab-df-convert:hover {\n",
              "      background-color: #434B5C;\n",
              "      box-shadow: 0px 1px 3px 1px rgba(0, 0, 0, 0.15);\n",
              "      filter: drop-shadow(0px 1px 2px rgba(0, 0, 0, 0.3));\n",
              "      fill: #FFFFFF;\n",
              "    }\n",
              "  </style>\n",
              "\n",
              "      <script>\n",
              "        const buttonEl =\n",
              "          document.querySelector('#df-2d07f4ac-88e5-4c4d-a714-b7f1c318c622 button.colab-df-convert');\n",
              "        buttonEl.style.display =\n",
              "          google.colab.kernel.accessAllowed ? 'block' : 'none';\n",
              "\n",
              "        async function convertToInteractive(key) {\n",
              "          const element = document.querySelector('#df-2d07f4ac-88e5-4c4d-a714-b7f1c318c622');\n",
              "          const dataTable =\n",
              "            await google.colab.kernel.invokeFunction('convertToInteractive',\n",
              "                                                     [key], {});\n",
              "          if (!dataTable) return;\n",
              "\n",
              "          const docLinkHtml = 'Like what you see? Visit the ' +\n",
              "            '<a target=\"_blank\" href=https://colab.research.google.com/notebooks/data_table.ipynb>data table notebook</a>'\n",
              "            + ' to learn more about interactive tables.';\n",
              "          element.innerHTML = '';\n",
              "          dataTable['output_type'] = 'display_data';\n",
              "          await google.colab.output.renderOutput(dataTable, element);\n",
              "          const docLink = document.createElement('div');\n",
              "          docLink.innerHTML = docLinkHtml;\n",
              "          element.appendChild(docLink);\n",
              "        }\n",
              "      </script>\n",
              "    </div>\n",
              "  </div>\n",
              "  "
            ]
          },
          "metadata": {},
          "execution_count": 38
        }
      ]
    },
    {
      "cell_type": "markdown",
      "source": [
        "**1. Analise os dados das vendas e do lead time. Eles seguem uma distribuição normal? Que características você identificou para chegar a essa conclusão?**"
      ],
      "metadata": {
        "id": "ErwtQpJ2dkOH"
      }
    },
    {
      "cell_type": "code",
      "source": [
        "df2[['vendas-iogurte']].value_counts()"
      ],
      "metadata": {
        "colab": {
          "base_uri": "https://localhost:8080/"
        },
        "id": "MiNEGYvsA1wm",
        "outputId": "639b07fd-25e9-41d5-e465-a74ebfddf4ee"
      },
      "execution_count": 39,
      "outputs": [
        {
          "output_type": "execute_result",
          "data": {
            "text/plain": [
              "vendas-iogurte\n",
              "5020              6\n",
              "4952              5\n",
              "4932              5\n",
              "4963              5\n",
              "4968              5\n",
              "                 ..\n",
              "4967              1\n",
              "4969              1\n",
              "4970              1\n",
              "4977              1\n",
              "5233              1\n",
              "Length: 207, dtype: int64"
            ]
          },
          "metadata": {},
          "execution_count": 39
        }
      ]
    },
    {
      "cell_type": "code",
      "source": [
        "df2[['lead-time']].value_counts()"
      ],
      "metadata": {
        "colab": {
          "base_uri": "https://localhost:8080/"
        },
        "id": "UuIoNRy4BIsA",
        "outputId": "9602cd12-4117-42e4-ebe8-505996c14ee7"
      },
      "execution_count": 40,
      "outputs": [
        {
          "output_type": "execute_result",
          "data": {
            "text/plain": [
              "lead-time\n",
              "5            89\n",
              "6            79\n",
              "4            77\n",
              "7            50\n",
              "3            37\n",
              "8            14\n",
              "2            13\n",
              "9             6\n",
              "1             5\n",
              "dtype: int64"
            ]
          },
          "metadata": {},
          "execution_count": 40
        }
      ]
    },
    {
      "cell_type": "markdown",
      "source": [
        "*A função normaltest testa a hipótese nula  H0  de que a amostra é proveniente de uma distribuição normal.*"
      ],
      "metadata": {
        "id": "TlskKV6rzeXN"
      }
    },
    {
      "cell_type": "code",
      "source": [
        "from scipy.stats import normaltest"
      ],
      "metadata": {
        "id": "1bim8gfPkS3D"
      },
      "execution_count": 41,
      "outputs": []
    },
    {
      "cell_type": "code",
      "source": [
        "normaltest(df2[['vendas-iogurte']])"
      ],
      "metadata": {
        "colab": {
          "base_uri": "https://localhost:8080/"
        },
        "id": "KClMyHVLkVwD",
        "outputId": "c04c3e29-3a6c-4451-a771-213069815a4a"
      },
      "execution_count": 42,
      "outputs": [
        {
          "output_type": "execute_result",
          "data": {
            "text/plain": [
              "NormaltestResult(statistic=array([1.85754489]), pvalue=array([0.39503834]))"
            ]
          },
          "metadata": {},
          "execution_count": 42
        }
      ]
    },
    {
      "cell_type": "code",
      "source": [
        "stat_test, p_valor = normaltest(df2[['vendas-iogurte']])\n",
        "print(stat_test)\n",
        "print(p_valor)"
      ],
      "metadata": {
        "colab": {
          "base_uri": "https://localhost:8080/"
        },
        "id": "TfjnkACYorOf",
        "outputId": "a0d66c88-73fb-4bef-c775-dd41f06965f2"
      },
      "execution_count": 43,
      "outputs": [
        {
          "output_type": "stream",
          "name": "stdout",
          "text": [
            "[1.85754489]\n",
            "[0.39503834]\n"
          ]
        }
      ]
    },
    {
      "cell_type": "code",
      "source": [
        "normaltest(df2[['lead-time']])"
      ],
      "metadata": {
        "colab": {
          "base_uri": "https://localhost:8080/"
        },
        "id": "Oa1yl7xRmrhD",
        "outputId": "0d3547c3-49b6-4ba2-a152-3fc6dc508ab1"
      },
      "execution_count": 44,
      "outputs": [
        {
          "output_type": "execute_result",
          "data": {
            "text/plain": [
              "NormaltestResult(statistic=array([0.32506746]), pvalue=array([0.84998742]))"
            ]
          },
          "metadata": {},
          "execution_count": 44
        }
      ]
    },
    {
      "cell_type": "code",
      "source": [
        "stat_test, p_valor = normaltest(df2[['lead-time']])\n",
        "print(stat_test)\n",
        "print(p_valor)"
      ],
      "metadata": {
        "colab": {
          "base_uri": "https://localhost:8080/"
        },
        "id": "PfERwgMPo1YZ",
        "outputId": "259d22de-5cf3-4cc1-8826-d333b7cbe745"
      },
      "execution_count": 45,
      "outputs": [
        {
          "output_type": "stream",
          "name": "stdout",
          "text": [
            "[0.32506746]\n",
            "[0.84998742]\n"
          ]
        }
      ]
    },
    {
      "cell_type": "code",
      "source": [
        "p_valor <= significancia"
      ],
      "metadata": {
        "colab": {
          "base_uri": "https://localhost:8080/"
        },
        "id": "SObIbvdZ4i2D",
        "outputId": "11c81d4c-af96-406a-b684-99c1452e8eb5"
      },
      "execution_count": 46,
      "outputs": [
        {
          "output_type": "execute_result",
          "data": {
            "text/plain": [
              "array([False])"
            ]
          },
          "metadata": {},
          "execution_count": 46
        }
      ]
    },
    {
      "cell_type": "markdown",
      "source": [
        "**Critério do valor**\n",
        "\n",
        "> ### Rejeitar $H_0$ se o valor $p\\leq 0,05$"
      ],
      "metadata": {
        "id": "qAzWpsMhz0Rv"
      }
    },
    {
      "cell_type": "markdown",
      "source": [
        "**O p_valor é (>)maior (p≤0,05), portanto não devemos rejeitar $H_0$, trata-se de uma distribuição normal.**"
      ],
      "metadata": {
        "id": "ikHpxy_e-XG7"
      }
    },
    {
      "cell_type": "markdown",
      "source": [
        "2. Assuma que:\n",
        "\n",
        "  a. Os dados seguem uma distribuição normal.\n",
        "\n",
        "  b. O time de vendas utilize para o produto em questão o nível de serviço\n",
        "de 99,87%\n",
        "\n",
        "  c. O produto não tem sazonalidade (todos os meses vende valores próximos) e a demanda média passada é uma boa estimativa para a projetada, de acordo com o time de planejamento de demanda.\n",
        "\n",
        "Calcule, com os dados fornecidos, o estoque de segurança desejado."
      ],
      "metadata": {
        "id": "l7VGj51PVXJl"
      }
    },
    {
      "cell_type": "code",
      "source": [
        "d = 4999.17\n",
        "t = 5.09\n",
        "σ = 5972.98\n",
        "σ = 2.49\n",
        "z = norm.ppf(0.995)"
      ],
      "metadata": {
        "id": "SvToQM7QhdVV"
      },
      "execution_count": 47,
      "outputs": []
    },
    {
      "cell_type": "code",
      "source": [
        "sazonalidade = norm.ppf(0.995)*np.sqrt(σ**2/d*t).round(4)\n",
        "sazonalidade"
      ],
      "metadata": {
        "colab": {
          "base_uri": "https://localhost:8080/"
        },
        "id": "IAesBfljgF-y",
        "outputId": "78cf8add-f53d-47f9-f5be-97172fd4490f"
      },
      "execution_count": 48,
      "outputs": [
        {
          "output_type": "execute_result",
          "data": {
            "text/plain": [
              "0.20477842963213758"
            ]
          },
          "metadata": {},
          "execution_count": 48
        }
      ]
    },
    {
      "cell_type": "code",
      "source": [
        "estoq_seg = z*np.sqrt((σ**2/d)*t + (σ**2/t)*(d**2))\n",
        "estoq_seg"
      ],
      "metadata": {
        "id": "fKsppR3FVZ3l",
        "colab": {
          "base_uri": "https://localhost:8080/"
        },
        "outputId": "bfb74fa1-3920-47ae-bdc7-e2c4064bcca7"
      },
      "execution_count": 49,
      "outputs": [
        {
          "output_type": "execute_result",
          "data": {
            "text/plain": [
              "14212.007925908823"
            ]
          },
          "metadata": {},
          "execution_count": 49
        }
      ]
    }
  ]
}